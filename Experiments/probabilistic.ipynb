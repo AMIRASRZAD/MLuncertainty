{
 "cells": [
  {
   "cell_type": "code",
   "execution_count": 616,
   "id": "53a27a35-7b28-4d5f-b7b7-839b8c1643a5",
   "metadata": {
    "tags": []
   },
   "outputs": [],
   "source": [
    "import tensorflow as tf\n",
    "import numpy as np\n",
    "import pandas as pd\n",
    "from tensorflow.keras.layers import Dense, Dropout, Flatten, Lambda\n",
    "from tensorflow.keras import Sequential\n",
    "from tensorflow.keras.losses import SparseCategoricalCrossentropy"
   ]
  },
  {
   "cell_type": "code",
   "execution_count": 617,
   "id": "517e1eb5-6156-4474-975a-8ccc27360d90",
   "metadata": {
    "tags": []
   },
   "outputs": [
    {
     "name": "stdout",
     "output_type": "stream",
     "text": [
      "TF version: 2.11.0\n",
      "TFP version: 0.16.0\n"
     ]
    }
   ],
   "source": [
    "import tensorflow as tf\n",
    "import tensorflow_probability as tfp\n",
    "tfd = tfp.distributions\n",
    "tfpl = tfp.layers\n",
    "print('TF version:', tf.__version__)\n",
    "print('TFP version:', tfp.__version__)"
   ]
  },
  {
   "cell_type": "code",
   "execution_count": 618,
   "id": "1b3896d0-f4a5-4d87-b952-7b031ed0671c",
   "metadata": {
    "tags": []
   },
   "outputs": [],
   "source": [
    "from tensorflow.keras.models import Sequential\n",
    "from tensorflow.keras.layers import Dense\n",
    "from tensorflow.keras.optimizers import RMSprop\n",
    "import numpy as np\n",
    "import matplotlib.pyplot as plt"
   ]
  },
  {
   "cell_type": "code",
   "execution_count": 619,
   "id": "77e4260f-7fbb-4229-b650-89649787299a",
   "metadata": {
    "tags": []
   },
   "outputs": [],
   "source": [
    "from sklearn.preprocessing import MinMaxScaler\n",
    "def scale_data(X):\n",
    "    scaler = MinMaxScaler()\n",
    "    X_scaled = pd.DataFrame(scaler.fit_transform(X),columns = X.columns)\n",
    "    return X_scaled"
   ]
  },
  {
   "cell_type": "code",
   "execution_count": 620,
   "id": "dd76ae5c-4885-4064-a122-bcec547e301d",
   "metadata": {
    "tags": []
   },
   "outputs": [],
   "source": [
    "import pandas as pd\n",
    "import numpy as np\n",
    "from scipy.spatial.distance import cdist\n",
    "\n",
    "def remove_close_points(df, lower_bound, upper_bound):\n",
    "    \"\"\"\n",
    "    Remove points from the DataFrame df if their Euclidean distance is smaller than epsilon.\n",
    "\n",
    "    Parameters:\n",
    "    - df: DataFrame, input data\n",
    "    - epsilon: float, threshold for removing points\n",
    "\n",
    "    Returns:\n",
    "    - DataFrame, modified DataFrame with close points removed\n",
    "    \"\"\"\n",
    "    distances = cdist(df.values, df.values)\n",
    "    np.fill_diagonal(distances, np.inf)\n",
    "    distances[np.triu_indices(distances.shape[0], k=1)] = np.inf\n",
    "   \n",
    "    # Find indices of points to remove\n",
    "    indices_to_remove = np.where(np.any(distances <lower_bound, axis=1))[0]\n",
    "    new_indices = np.where(np.any((distances > upper_bound) & (distances != np.inf), axis=1))[0]\n",
    "    indices_to_remove = np.concatenate((indices_to_remove, new_indices))\n",
    "    # Create a mask for filtering\n",
    "    modified_df = df.drop(index=indices_to_remove)\n",
    "    return modified_df\n"
   ]
  },
  {
   "cell_type": "code",
   "execution_count": 621,
   "id": "8cd485ca-5fad-4c0b-b64a-143580f84bf3",
   "metadata": {
    "tags": []
   },
   "outputs": [],
   "source": [
    "def get_random_data(num):\n",
    "    np.random.seed(111)\n",
    "    set1 = np.random.normal(loc=1, scale=1, size=(num, 2))\n",
    "    set2 = np.random.normal(loc=2.5, scale=1, size=(num, 2))\n",
    "    X = np.concatenate([set1, set2])\n",
    "    y = np.concatenate([np.zeros(num), np.ones(num)])\n",
    "    y = y.astype(int)\n",
    "\n",
    "    # Convert NumPy arrays to DataFrame and Series\n",
    "    X_df = pd.DataFrame(X, columns=['Feature1', 'Feature2'])\n",
    "    y_series = pd.Series(y, name='Target')\n",
    "\n",
    "    return X_df, y_series"
   ]
  },
  {
   "cell_type": "code",
   "execution_count": 622,
   "id": "dd46d3a1-4ffb-4efb-805e-5ed4052c6da1",
   "metadata": {
    "tags": []
   },
   "outputs": [],
   "source": [
    "\n",
    "def get_bank_customer_churn_dataset():\n",
    "    df = pd.read_csv('/Users/amirasrzad/Library/CloudStorage/OneDrive-UMassLowell/1-Research/1-Li/ICIS2023/datasets/Bank_Customer_Churn.csv')\n",
    "    categorical_cols = ['country', 'gender']\n",
    "    numerical_cols = ['customer_id', 'credit_score', 'age', 'tenure', 'balance', 'products_number', 'credit_card', 'active_member', 'estimated_salary']\n",
    "    df_encoded = pd.get_dummies(df, columns=categorical_cols, drop_first=True)\n",
    "    df_encoded = df_encoded.reset_index(drop=True)\n",
    "    X = df_encoded.drop([\"churn\", 'customer_id'], axis = 1)\n",
    "    X = scale_data(X)\n",
    "    y = df_encoded['churn']\n",
    "    return X, y"
   ]
  },
  {
   "cell_type": "code",
   "execution_count": 623,
   "id": "5cc4eda7-375c-41b6-8ff2-1c8bfc8c9cf7",
   "metadata": {
    "tags": []
   },
   "outputs": [],
   "source": [
    "\n",
    "def get_diabetes_dataset():\n",
    "    df = pd.read_csv('/Users/amirasrzad/Library/CloudStorage/OneDrive-UMassLowell/1-Research/1-Li/ICIS2023/experiment-results/pathdataset/diabetes.csv')\n",
    "    X = df.drop('Outcome', axis='columns')\n",
    "    X = scale_data(X)\n",
    "    y = df['Outcome']\n",
    "    return X, y"
   ]
  },
  {
   "cell_type": "code",
   "execution_count": 624,
   "id": "d546ebc9-c5e2-4b0b-ae4e-19b058b28f3a",
   "metadata": {
    "tags": []
   },
   "outputs": [],
   "source": [
    "def get_breast_cancer_dataset():\n",
    "    df = pd.read_csv('/Users/amirasrzad/Library/CloudStorage/OneDrive-UMassLowell/1-Research/1-Li/ICIS2023/datasets/breast-cancer.csv')\n",
    "    X = df.drop([\"diagnosis\", 'id'], axis = 1)\n",
    "    X = scale_data(X)\n",
    "    y = df['diagnosis']\n",
    "    y = y.replace({'B': 0, 'M': 1})\n",
    "    return X, y"
   ]
  },
  {
   "cell_type": "code",
   "execution_count": 625,
   "id": "e20695e2-bb61-4368-8d9f-c25868bee631",
   "metadata": {
    "tags": []
   },
   "outputs": [],
   "source": [
    "def get_boston_housing():\n",
    "    rawdf = pd.read_csv('/Users/amirasrzad/Desktop/uni/term-1/Data Analytics/Assignment-2/BostonHousing2 - FullData.csv')\n",
    "    X = rawdf.drop('CATMEDV', axis='columns')\n",
    "    df_one = pd.get_dummies(rawdf[\"CATMEDV\"])\n",
    "    df_two = pd.concat((df_one, rawdf), axis=1)\n",
    "    y = df_two['high']\n",
    "    #X = scale_data(X)\n",
    "    return X, y"
   ]
  },
  {
   "cell_type": "code",
   "execution_count": 626,
   "id": "fc34facb-41fd-472e-8670-4e7c3a6e9284",
   "metadata": {
    "tags": []
   },
   "outputs": [],
   "source": [
    "def get_fico_dataset():\n",
    "    df = pd.read_csv('/Users/amirasrzad/Library/CloudStorage/OneDrive-UMassLowell/1-Research/1-Li/ICIS2023/experiment-results/pathdataset/fico.csv')\n",
    "    df.drop_duplicates(inplace=True)\n",
    "    df['RiskPerformance'] = df['RiskPerformance'].replace({'Bad': 0, 'Good': 1})\n",
    "    #modified_df = remove_close_points(df,3,820)\n",
    "    df = df.reset_index(drop=True)\n",
    "    X = df.drop('RiskPerformance', axis='columns')\n",
    "    X = scale_data(X)\n",
    "    y = df['RiskPerformance']\n",
    "    return X, y"
   ]
  },
  {
   "cell_type": "code",
   "execution_count": 627,
   "id": "73f3e4fc-eb06-4e4d-8078-319c38fd8eb1",
   "metadata": {
    "tags": []
   },
   "outputs": [],
   "source": [
    "\n",
    "def get_bank_dataset():\n",
    "    df = pd.read_csv('/Users/amirasrzad/Library/CloudStorage/OneDrive-UMassLowell/1-Research/1-Li/ICIS2023/datasets/bank.csv')\n",
    "    df = df.dropna()\n",
    "    df.drop_duplicates(inplace=True)\n",
    "    df_sampled = df.sample(frac=0.15, replace=False, random_state=60)\n",
    "    df_sampled = df_sampled.reset_index(drop=True)\n",
    "    X = df_sampled.drop('give_credit', axis='columns')\n",
    "    X = scale_data(X)\n",
    "    y = df_sampled['give_credit']\n",
    "    return X, y\n"
   ]
  },
  {
   "cell_type": "code",
   "execution_count": 628,
   "id": "7efebdf2-5c48-4e71-aff0-fda0fcce6eee",
   "metadata": {
    "tags": []
   },
   "outputs": [],
   "source": [
    "def define():\n",
    "    model = Sequential()\n",
    "    model.add(Dense(32, activation=\"relu\",input_shape=(input_shape, )))\n",
    "    model.add(Dense(32, activation=\"relu\"))\n",
    "    model.add(Dense(2, activation=\"softmax\"))\n",
    "    optim = tf.keras.optimizers.Adam(1e-3)\n",
    "    model.compile(optimizer=optim, metrics=['accuracy'], loss=SparseCategoricalCrossentropy())\n",
    "    return model"
   ]
  },
  {
   "cell_type": "code",
   "execution_count": 629,
   "id": "72b42566-a23e-4d78-9614-d6157e6f8691",
   "metadata": {
    "tags": []
   },
   "outputs": [],
   "source": [
    "def train(x, y, model, epochs=5):\n",
    "    model.fit(x, y, \n",
    "              batch_size=32,\n",
    "              epochs=epochs,\n",
    "              verbose=0)\n",
    "    return model"
   ]
  },
  {
   "cell_type": "code",
   "execution_count": 630,
   "id": "bcbdac2e-097f-43cf-937a-e2b5c2270865",
   "metadata": {
    "tags": []
   },
   "outputs": [],
   "source": [
    "def train_models(model_list, X_train, y_train, epochs=5):\n",
    "    trained_models = []\n",
    "    for model in model_list:\n",
    "        trained_model = train(X_train, y_train, model, epochs)\n",
    "        trained_models.append(trained_model)\n",
    "    return trained_models"
   ]
  },
  {
   "cell_type": "code",
   "execution_count": 631,
   "id": "fc7c70b4-3d34-4624-b929-55951d393e69",
   "metadata": {
    "tags": []
   },
   "outputs": [],
   "source": [
    "def predict(models, x):\n",
    "    yhat_arr = []\n",
    "    for model in models:\n",
    "        yhat = model(x, training=False)\n",
    "        yhat_arr.append(yhat)\n",
    "\n",
    "    yhat_arr = np.stack(yhat_arr, -1)\n",
    "    probs = np.mean(yhat_arr, axis=-1)\n",
    "    \n",
    "\n",
    "    entropy = - 1.0 * np.sum(probs * np.log(probs + 1e-16), axis=-1)\n",
    "    return probs, entropy,yhat_arr"
   ]
  },
  {
   "cell_type": "code",
   "execution_count": 632,
   "id": "aa3970d8-b132-4b7f-b05f-edcc185d279b",
   "metadata": {
    "tags": []
   },
   "outputs": [
    {
     "data": {
      "text/plain": [
       "10"
      ]
     },
     "execution_count": 632,
     "metadata": {},
     "output_type": "execute_result"
    }
   ],
   "source": [
    "from sklearn.model_selection import train_test_split\n",
    "X, y = get_bank_dataset()\n",
    "X_train, X_test, y_train, y_test = train_test_split(X, y, test_size=0.1, random_state=11)\n",
    "X_test_org_idxs = X_test.index\n",
    "X_train = X_train.to_numpy().astype(np.float32)\n",
    "y_train = y_train.to_numpy().astype(np.float32)\n",
    "X_test = X_test.to_numpy().astype(np.float32)\n",
    "y_test = y_test.to_numpy().astype(np.float32)\n",
    "input_shape = X_train.shape[1]\n",
    "input_shape"
   ]
  },
  {
   "cell_type": "code",
   "execution_count": 633,
   "id": "374c7def-c3c7-4f08-9b23-b96f2b3ec6f2",
   "metadata": {
    "tags": []
   },
   "outputs": [],
   "source": [
    "# Calculate negative outlier factor scores\n",
    "\n",
    "from sklearn.neighbors import LocalOutlierFactor\n",
    "# Calculate negative outlier factor scores for class 0\n",
    "lof_model_class_0 = LocalOutlierFactor(n_neighbors=5, contamination=0.1)\n",
    "lof_model_class_0.fit(X[y == 0])\n",
    "lof_scores_class_0 = -1 * lof_model_class_0.negative_outlier_factor_\n",
    "\n",
    "# Calculate negative outlier factor scores for class 1\n",
    "lof_model_class_1 = LocalOutlierFactor(n_neighbors=10, contamination=0.1)\n",
    "lof_model_class_1.fit(X[y == 1])\n",
    "lof_scores_class_1 = -1 * lof_model_class_1.negative_outlier_factor_\n",
    "\n",
    "# Combine the outlier scores for both classes\n",
    "combined_lof_scores = np.empty_like(y, dtype=float)\n",
    "combined_lof_scores[y == 0] = lof_scores_class_0\n",
    "combined_lof_scores[y == 1] = lof_scores_class_1\n",
    "combined_lof_scores.shape\n",
    "outliers_scores_x_test = [combined_lof_scores[i] for i in X_test_org_idxs]\n"
   ]
  },
  {
   "cell_type": "code",
   "execution_count": 634,
   "id": "17734045-7b71-4835-8ac2-0e0adc950ca2",
   "metadata": {
    "tags": []
   },
   "outputs": [],
   "source": [
    "num_models = 10  # Number of models in your list\n",
    "model_list = [define() for _ in range(num_models)]"
   ]
  },
  {
   "cell_type": "code",
   "execution_count": 635,
   "id": "cf21e5ca-f4a4-4a1e-93bf-3c026bc7b77d",
   "metadata": {
    "tags": []
   },
   "outputs": [],
   "source": [
    "# Train the models\n",
    "trained_models = train_models(model_list, X_train, y_train, epochs=5)"
   ]
  },
  {
   "cell_type": "code",
   "execution_count": 636,
   "id": "7c8db485-d792-487e-bef5-90267192edc6",
   "metadata": {
    "tags": []
   },
   "outputs": [],
   "source": [
    "probs, entropy,yhat_arr = predict(trained_models, X_test)\n",
    "probs_train, entropy_train ,yhat_arr_train = predict(trained_models, X_train)"
   ]
  },
  {
   "cell_type": "code",
   "execution_count": 637,
   "id": "cd6ff70d-3dc6-45d6-8170-f79e9e4fb294",
   "metadata": {
    "tags": []
   },
   "outputs": [],
   "source": [
    "def custom_brier_score(probs):\n",
    "    \n",
    "    predicted_labels = np.argmax(probs, axis=1)\n",
    "    t0 = np.where(predicted_labels == 0, 1, 0)\n",
    "    t1 = np.where(predicted_labels == 1, 1, 0)\n",
    "    \n",
    "    # Calculate Brier Score\n",
    "    brier_scores = np.square(t0 - probs[:, 0]) + np.square(t1 - probs[:, 1])\n",
    "    \n",
    "    return brier_scores\n",
    "brier_score = custom_brier_score (probs)"
   ]
  },
  {
   "cell_type": "code",
   "execution_count": 638,
   "id": "c8ebf466-0ae4-47b5-ada9-319c38c58ea4",
   "metadata": {
    "tags": []
   },
   "outputs": [],
   "source": [
    "def kl_divergences (probs, yhat_arr):    \n",
    "    probs_reshaped = probs[:, :, np.newaxis]\n",
    "    probs_broadcasted = np.broadcast_to(probs_reshaped, yhat_arr.shape)\n",
    "    kl_divergences = np.sum(np.where(yhat_arr != 0, yhat_arr * np.log(yhat_arr / probs_broadcasted), 0), axis=-1)\n",
    "    kl_divergences_mean = np.mean(kl_divergences, axis=1, keepdims=True)\n",
    "    return kl_divergences_mean\n",
    "kl_divergences_mean = kl_divergences (probs, yhat_arr)\n",
    "kl_divergences_mean = kl_divergences_mean.reshape(-1)"
   ]
  },
  {
   "cell_type": "code",
   "execution_count": 639,
   "id": "829dfbc2-2618-49d7-944a-9cb22c587ee1",
   "metadata": {
    "tags": []
   },
   "outputs": [],
   "source": [
    "def variance_probs (yhat_arr):\n",
    "    variance_values = np.var(yhat_arr, axis=-1)\n",
    "    variance_values_sum = variance_values[:,-1]\n",
    "    variance_values_sum\n",
    "    return variance_values_sum\n",
    "variance_values_sum = variance_probs (yhat_arr)"
   ]
  },
  {
   "cell_type": "code",
   "execution_count": 640,
   "id": "bbea9fcd-0800-4540-9dde-eae8a55813b1",
   "metadata": {
    "tags": []
   },
   "outputs": [],
   "source": [
    "def total_entropy (probs):\n",
    "    total_entropy = - 1.0 * np.sum(probs * np.log(probs + 1e-16), axis=-1)\n",
    "    return total_entropy\n",
    "total_entropy = total_entropy (probs)"
   ]
  },
  {
   "cell_type": "code",
   "execution_count": 641,
   "id": "74b4f58d-eb9f-4f06-9a14-5283d376fd49",
   "metadata": {
    "tags": []
   },
   "outputs": [],
   "source": [
    "def expected_entropy (yhat_arr):\n",
    "    expected_entropy = - 1.0 * np.mean(np.sum(yhat_arr * np.log(yhat_arr + 1e-16), axis=-2), axis=-1)\n",
    "    return expected_entropy\n",
    "expected_entropy = expected_entropy (yhat_arr)\n",
    "mutual_information = total_entropy - expected_entropy"
   ]
  },
  {
   "cell_type": "code",
   "execution_count": 642,
   "id": "539bcb59-bc86-4f5c-bfcb-5043d2c5e450",
   "metadata": {
    "tags": []
   },
   "outputs": [
    {
     "data": {
      "text/plain": [
       "(1803,)"
      ]
     },
     "execution_count": 642,
     "metadata": {},
     "output_type": "execute_result"
    }
   ],
   "source": [
    "expected_entropy.shape"
   ]
  },
  {
   "cell_type": "code",
   "execution_count": 643,
   "id": "77d8228f-29bc-4d38-a513-1cafaba4e3eb",
   "metadata": {
    "tags": []
   },
   "outputs": [
    {
     "data": {
      "text/plain": [
       "0.0632279534109817"
      ]
     },
     "execution_count": 643,
     "metadata": {},
     "output_type": "execute_result"
    }
   ],
   "source": [
    "\n",
    "def find_misclassified(probs, y_true):\n",
    "    # Convert predicted probabilities to class labels (assuming binary classification)\n",
    "    predicted_labels = np.argmax(probs, axis=1)\n",
    "\n",
    "    # Compare predicted labels with true labels\n",
    "    misclassified_indices = np.where(predicted_labels != y_true)[0]\n",
    "    correct_classified_indices = np.where(predicted_labels == y_true)[0]\n",
    "    return misclassified_indices,correct_classified_indices\n",
    "\n",
    "# Example usage:\n",
    "# Assuming y_test contains the true labels\n",
    "misclassified_indices, correct_classified_indices = find_misclassified(probs, y_test)\n",
    "misclassified_org_idx = [X_test_org_idxs[i] for i in misclassified_indices]\n",
    "len(misclassified_indices)/len(X_test)"
   ]
  },
  {
   "cell_type": "code",
   "execution_count": 644,
   "id": "3ddb5dce-9828-410d-93e5-6c18c96a2831",
   "metadata": {
    "tags": []
   },
   "outputs": [],
   "source": [
    "from sklearn.datasets import make_classification\n",
    "from sklearn.model_selection import train_test_split\n",
    "from sklearn.ensemble import RandomForestClassifier\n",
    "from sklearn.neural_network import MLPClassifier\n",
    "from sklearn.metrics import accuracy_score\n",
    "import pandas as pd\n",
    "import numpy as np\n",
    "import random\n",
    "#import pydotplus\n",
    "import collections\n",
    "from sklearn.preprocessing import MinMaxScaler, StandardScaler\n",
    "from sklearn.tree import DecisionTreeClassifier \n",
    "from sklearn import tree\n",
    "from scipy.spatial.distance import cdist, pdist, squareform\n",
    "from sklearn.neighbors import NearestNeighbors\n",
    "from sklearn.neighbors import KDTree, KNeighborsClassifier"
   ]
  },
  {
   "cell_type": "code",
   "execution_count": 645,
   "id": "bfd3537c-414a-4a85-8c3e-d67bf01fddd8",
   "metadata": {
    "tags": []
   },
   "outputs": [],
   "source": [
    "class TrustScore:\n",
    "    \"\"\"\n",
    "    Trust Score: a measure of classifier uncertainty based on nearest neighbors.\n",
    "  \"\"\"\n",
    "\n",
    "    def __init__(self, k=10, alpha=0.0, filtering=\"none\", min_dist=1e-12):\n",
    "        \"\"\"\n",
    "        k and alpha are the tuning parameters for the filtering,\n",
    "        filtering: method of filtering. option are \"none\", \"density\",\n",
    "        \"uncertainty\"\n",
    "        min_dist: some small number to mitigate possible division by 0.\n",
    "    \"\"\"\n",
    "        self.k = k\n",
    "        self.filtering = filtering\n",
    "        self.alpha = alpha\n",
    "        self.min_dist = min_dist\n",
    "\n",
    "    def filter_by_density(self, X: np.array):\n",
    "        \"\"\"Filter out points with low kNN density.\n",
    "    Args:\n",
    "    X: an array of sample points.\n",
    "    Returns:\n",
    "    A subset of the array without points in the bottom alpha-fraction of\n",
    "    original points of kNN density.\n",
    "    \"\"\"\n",
    "        kdtree = KDTree(X)\n",
    "        knn_radii = kdtree.query(X, k=self.k)[0][:, -1]\n",
    "        eps = np.percentile(knn_radii, (1 - self.alpha) * 100)\n",
    "        return X[np.where(knn_radii <= eps)[0], :]\n",
    "\n",
    "    def filter_by_uncertainty(self, X: np.array, y: np.array):\n",
    "        \"\"\"Filter out points with high label disagreement amongst its kNN neighbors.\n",
    "    Args:\n",
    "    X: an array of sample points.\n",
    "    Returns:\n",
    "    A subset of the array without points in the bottom alpha-fraction of\n",
    "    samples with highest disagreement amongst its k nearest neighbors.\n",
    "    \"\"\"\n",
    "        neigh = KNeighborsClassifier(n_neighbors=self.k)\n",
    "        neigh.fit(X, y)\n",
    "        confidence = neigh.predict_proba(X)\n",
    "        cutoff = np.percentile(confidence, self.alpha * 100)\n",
    "        unfiltered_idxs = np.where(confidence >= cutoff)[0]\n",
    "        return X[unfiltered_idxs, :], y[unfiltered_idxs]\n",
    "\n",
    "    def fit(self, X: np.array, y: np.array):\n",
    "        \"\"\"Initialize trust score precomputations with training data.\n",
    "    WARNING: assumes that the labels are 0-indexed (i.e.\n",
    "    0, 1,..., n_labels-1).\n",
    "    Args:\n",
    "    X: an array of sample points.\n",
    "    y: corresponding labels.\n",
    "    \"\"\"\n",
    "\n",
    "        self.n_labels = np.max(y) + 1\n",
    "        self.kdtrees = [None] * self.n_labels\n",
    "        if self.filtering == \"uncertainty\":\n",
    "            X_filtered, y_filtered = self.filter_by_uncertainty(X, y)\n",
    "        for label in range(self.n_labels):\n",
    "            if self.filtering == \"none\":\n",
    "                X_to_use = X[np.where(y == label)[0]]\n",
    "                self.kdtrees[label] = KDTree(X_to_use)\n",
    "            elif self.filtering == \"density\":\n",
    "                X_to_use = self.filter_by_density(X[np.where(y == label)[0]])\n",
    "                self.kdtrees[label] = KDTree(X_to_use)\n",
    "            elif self.filtering == \"uncertainty\":\n",
    "                X_to_use = X_filtered[np.where(y_filtered == label)[0]]\n",
    "                self.kdtrees[label] = KDTree(X_to_use)\n",
    "\n",
    "            if len(X_to_use) == 0:\n",
    "                print(\n",
    "                    \"Filtered too much or missing examples from a label! Please lower \"\n",
    "                    \"alpha or check data.\"\n",
    "                )\n",
    "\n",
    "    def get_score(self, X: np.array, y_pred: np.array):\n",
    "        \"\"\"Compute the trust scores.\n",
    "    Given a set of points, determines the distance to each class.\n",
    "    Args:\n",
    "    X: an array of sample points.\n",
    "    y_pred: The predicted labels for these points.\n",
    "    Returns:\n",
    "    The trust score, which is ratio of distance to closest class that was not\n",
    "    the predicted class to the distance to the predicted class.\n",
    "    \"\"\"\n",
    "        d = np.tile(None, (X.shape[0], self.n_labels))\n",
    "        for label_idx in range(self.n_labels):\n",
    "            d[:, label_idx] = np.mean(self.kdtrees[label_idx].query(X, k=5)[0][:, -5:], axis=1)\n",
    "            \n",
    "\n",
    "        sorted_d = np.sort(d, axis=1)\n",
    "        d_to_pred = d[range(d.shape[0]), y_pred]\n",
    "        d_to_closest_not_pred = np.where(\n",
    "            sorted_d[:, 0] != d_to_pred, sorted_d[:, 0], sorted_d[:, 1]\n",
    "        )\n",
    "        return d_to_closest_not_pred / (d_to_pred + self.min_dist)"
   ]
  },
  {
   "cell_type": "code",
   "execution_count": 646,
   "id": "9cd8ca92-4ea8-41ba-944b-fa2335632356",
   "metadata": {
    "tags": []
   },
   "outputs": [],
   "source": [
    "ts = TrustScore(k=10, alpha=0.06, filtering=\"density\")\n",
    "predicted_labels_train = np.argmax(probs_train, axis=1)\n",
    "y_train = y_train.astype(int)\n",
    "ts.fit(X_train, y_train)\n",
    "predicted_labels = np.argmax(probs, axis=1)\n",
    "trust_scores = ts.get_score(X_test, predicted_labels)\n",
    "trust_scores_x_test = [trust_scores[i] for i in range(len(X_test))]\n",
    "#trust_scores[trust_scores > 5] = 5"
   ]
  },
  {
   "cell_type": "code",
   "execution_count": 647,
   "id": "5597d067-32e4-4a5a-958d-d2e335b87212",
   "metadata": {
    "tags": []
   },
   "outputs": [],
   "source": [
    "pd.set_option('display.max_rows', None)"
   ]
  },
  {
   "cell_type": "code",
   "execution_count": 648,
   "id": "5c68d8ca-e9ed-4aa1-8257-5c5c0a9d21e9",
   "metadata": {
    "tags": []
   },
   "outputs": [],
   "source": [
    "data = {'trust_score':trust_scores }\n",
    "df = pd.DataFrame(data)\n",
    "r_df = pd.DataFrame({'trust_score': df['trust_score'],\n",
    "                          'misclassified': df.index.isin(misclassified_indices)})\n",
    "#r_df[r_df['misclassified']== True]\n",
    "#print neghbors trust?"
   ]
  },
  {
   "cell_type": "code",
   "execution_count": 649,
   "id": "0a867f99-af1d-41fe-9b39-0960a9eda574",
   "metadata": {
    "tags": []
   },
   "outputs": [
    {
     "data": {
      "text/plain": [
       "array([   4,    9,   13,   19,   29,   39,   63,   64,   76,   91,  114,\n",
       "        124,  149,  175,  184,  206,  229,  242,  244,  250,  272,  279,\n",
       "        284,  319,  346,  347,  355,  358,  382,  390,  405,  412,  414,\n",
       "        437,  472,  477,  490,  494,  505,  511,  571,  610,  617,  654,\n",
       "        658,  661,  665,  690,  695,  727,  737,  760,  761,  771,  779,\n",
       "        781,  800,  835,  837,  845,  859,  862,  872,  873,  915,  927,\n",
       "        929,  945,  973,  989,  998, 1016, 1019, 1027, 1047, 1175, 1177,\n",
       "       1183, 1193, 1198, 1199, 1225, 1259, 1291, 1293, 1320, 1339, 1353,\n",
       "       1357, 1364, 1366, 1377, 1425, 1442, 1451, 1476, 1479, 1482, 1485,\n",
       "       1512, 1578, 1580, 1588, 1594, 1619, 1640, 1669, 1678, 1721, 1733,\n",
       "       1757, 1771, 1780, 1798])"
      ]
     },
     "execution_count": 649,
     "metadata": {},
     "output_type": "execute_result"
    }
   ],
   "source": [
    "misclassified_indices"
   ]
  },
  {
   "cell_type": "code",
   "execution_count": 650,
   "id": "7caa7f4d-b469-4309-bb7d-96766d58b0f1",
   "metadata": {},
   "outputs": [],
   "source": [
    "def double_trust(trust_scores, X_test, predicted_labels):    \n",
    "    # Choose the number of neighbors (k)\n",
    "    k_neighbors = 5  # You can adjust this value\n",
    "\n",
    "    # Build a KDTree using X_test\n",
    "    kdtree = KDTree(X_test)\n",
    "\n",
    "    # Find the indices and distances of the k-nearest neighbors for each point in X_test\n",
    "    distances, indices = kdtree.query(X_test, k=k_neighbors)\n",
    "    \n",
    "    # Initialize an empty array to store the final k-th trust scores\n",
    "    final_kth_trust_scores = np.zeros_like(trust_scores)\n",
    "\n",
    "    # Loop through each point in X_test\n",
    "    for i in range(len(X_test)):\n",
    "        # Get the predicted label for the current point\n",
    "        current_label = predicted_labels[i]\n",
    "        # Get the indices of the k-nearest neighbors for the current point\n",
    "        neighbors_indices = indices[i]\n",
    "        \n",
    "        kth_trust_score = 0  # Initialize kth_trust_score\n",
    "        for j in neighbors_indices:\n",
    "            \n",
    "            if current_label == predicted_labels[j]:\n",
    "                kth_trust_score += trust_scores[j]\n",
    "                \n",
    "            else:\n",
    "                \n",
    "                kth_trust_score -= trust_scores[j]\n",
    "\n",
    "        # Calculate the mean trust scores for the k-nearest neighbors belonging to the predicted label\n",
    "        kth_trust_score /= len(neighbors_indices)\n",
    "\n",
    "        # Update the final k-th trust scores array\n",
    "        final_kth_trust_scores[i] = kth_trust_score\n",
    "    \n",
    "    return final_kth_trust_scores"
   ]
  },
  {
   "cell_type": "code",
   "execution_count": 651,
   "id": "80a7f3d9-ecd0-48d3-9a91-a329a3e7357a",
   "metadata": {
    "tags": []
   },
   "outputs": [],
   "source": [
    "from scipy.spatial import KDTree\n",
    "import numpy as np\n",
    "\n",
    "def double_trust_2(trust_scores, X_test, predicted_labels):    \n",
    "    # Choose the number of neighbors (k)\n",
    "    k_neighbors = 3  # You can adjust this value\n",
    "\n",
    "    # Build a KDTree using X_test\n",
    "    kdtree = KDTree(X_test)\n",
    "\n",
    "    # Find the indices and distances of the k-nearest neighbors for each point in X_test\n",
    "    distances, indices = kdtree.query(X_test, k=k_neighbors)\n",
    "    \n",
    "    # Initialize an empty array to store the final k-th trust scores\n",
    "    final_kth_trust_scores = np.zeros_like(trust_scores)\n",
    "\n",
    "    # Loop through each point in X_test\n",
    "    for i in range(len(X_test)):\n",
    "        # Get the predicted label for the current point\n",
    "        current_label = predicted_labels[i]\n",
    "        # Get the indices of the k-nearest neighbors for the current point\n",
    "        neighbors_indices = indices[i]\n",
    "        same_class_count = np.sum(predicted_labels[neighbors_indices] == current_label)\n",
    "\n",
    "        # Get the trust scores of the neighbors\n",
    "        neighbors_trust_scores = trust_scores[neighbors_indices]\n",
    "        neighbors_trust_scores = np.append(neighbors_trust_scores, trust_scores[i])\n",
    "        \n",
    "        # Get the indices that would sort the trust scores in ascending order\n",
    "        sorted_indices = np.argsort(neighbors_trust_scores)\n",
    "        \n",
    "        # Find the rank of the current trust score among the neighbors\n",
    "        current_rank = np.where(sorted_indices == 0)[0][0]\n",
    "\n",
    "        # Augment the trust score based on the rank\n",
    "        augmented_score = ((same_class_count/k_neighbors)**(k_neighbors))*(trust_scores[i]) ** (1+current_rank)\n",
    "        #augmented_score = np.power(augmented_score, 1/5)\n",
    "        # Update the final k-th trust scores array\n",
    "        final_kth_trust_scores[i] = augmented_score\n",
    "    \n",
    "    return final_kth_trust_scores\n"
   ]
  },
  {
   "cell_type": "code",
   "execution_count": 652,
   "id": "cfa6de76-17f1-4884-938d-6b936caf01cf",
   "metadata": {
    "tags": []
   },
   "outputs": [],
   "source": [
    "from numpy import min, max\n",
    "def min_max_scaler(data, min_val=0, max_val=1):  \n",
    "  \"\"\"Performs min-max scaling on a list or NumPy array.\"\"\"\n",
    "  data = np.asarray(data)  \n",
    "  return (data - min(data)) / (max(data) - min(data)) * (max_val - min_val) + min_val"
   ]
  },
  {
   "cell_type": "code",
   "execution_count": 653,
   "id": "a9681bd0-9595-4836-aaa5-43bf9b6f3701",
   "metadata": {
    "tags": []
   },
   "outputs": [],
   "source": [
    "final_kth_trust_scores = double_trust_2(trust_scores, X_test, predicted_labels)\n",
    "misclassified_double_trust = [final_kth_trust_scores[i] for i in misclassified_indices]\n",
    "\n",
    "#scaled_misclassified_double_trust = min_max_scaler(misclassified_double_trust, min_val=0, max_val=10)"
   ]
  },
  {
   "cell_type": "code",
   "execution_count": 654,
   "id": "dd6970cb-8930-45f3-92de-d17392dc9d78",
   "metadata": {
    "tags": []
   },
   "outputs": [
    {
     "data": {
      "text/plain": [
       "884.1980242046401"
      ]
     },
     "execution_count": 654,
     "metadata": {},
     "output_type": "execute_result"
    }
   ],
   "source": [
    "np.mean(misclassified_double_trust)\n"
   ]
  },
  {
   "cell_type": "code",
   "execution_count": 655,
   "id": "e5109cee-38e6-468f-a73d-44bb4adea6ce",
   "metadata": {
    "tags": []
   },
   "outputs": [
    {
     "data": {
      "text/plain": [
       "907.6812550391015"
      ]
     },
     "execution_count": 655,
     "metadata": {},
     "output_type": "execute_result"
    }
   ],
   "source": [
    "#misclassified_double_trust = [final_kth_trust_scores[i] for i in misclassified_indices]\n",
    "correct_classified__double_trust =  [final_kth_trust_scores[i] for i in correct_classified_indices]\n",
    "scaled_correct_double_trust = min_max_scaler(correct_classified__double_trust, min_val=0, max_val=10)\n",
    "np.mean(correct_classified__double_trust)\n"
   ]
  },
  {
   "cell_type": "code",
   "execution_count": 656,
   "id": "3dd7b845-183c-4673-9ae5-45befa6be8fb",
   "metadata": {
    "tags": []
   },
   "outputs": [],
   "source": [
    "double_trust_scores_x_test = [final_kth_trust_scores[i] for i in range(len(X_test))]"
   ]
  },
  {
   "cell_type": "code",
   "execution_count": 657,
   "id": "1aafe417-a389-41ca-afbd-d7cbd2874af8",
   "metadata": {
    "tags": []
   },
   "outputs": [],
   "source": [
    "df_result = pd.DataFrame({\n",
    "    'Epistemic': mutual_information,\n",
    "    'Aleatoric': expected_entropy,\n",
    "    'brier_score': brier_score,\n",
    "    'trust_scores': trust_scores_x_test\n",
    "    \n",
    "}, index=X_test_org_idxs)\n",
    "#df_result"
   ]
  },
  {
   "cell_type": "code",
   "execution_count": null,
   "id": "66c27d81-2f53-4dbc-8a5d-3275b325dee1",
   "metadata": {},
   "outputs": [],
   "source": []
  },
  {
   "cell_type": "code",
   "execution_count": null,
   "id": "6909f053-76c9-44e2-9d7d-0a40b6ced8c3",
   "metadata": {},
   "outputs": [],
   "source": []
  },
  {
   "cell_type": "code",
   "execution_count": 658,
   "id": "6dee781b-09be-4e60-a18b-4e6108362ccc",
   "metadata": {
    "tags": []
   },
   "outputs": [],
   "source": [
    "import seaborn as sns\n",
    "# Calculate the correlation matrix\n",
    "correlation_matrix = df_result.corr()\n",
    "\n",
    "# Plot the correlation matrix using seaborn\n",
    "sns.heatmap(correlation_matrix, annot=True, cmap=\"coolwarm\", fmt=\".2f\")\n",
    "plt.title(\"bank loan dataset\")\n",
    "plt.savefig('Correlation_bank.png', bbox_inches='tight', dpi=300)\n",
    "plt.close()"
   ]
  },
  {
   "cell_type": "code",
   "execution_count": null,
   "id": "1105a243-ec6c-4d24-b1f7-a2d01bff227f",
   "metadata": {},
   "outputs": [],
   "source": []
  },
  {
   "cell_type": "code",
   "execution_count": null,
   "id": "ee11364b-eb7a-497c-a34b-115b2ab27bbe",
   "metadata": {},
   "outputs": [],
   "source": []
  },
  {
   "cell_type": "code",
   "execution_count": null,
   "id": "923cca5c-1895-43bc-ba90-d8efc66abbd2",
   "metadata": {},
   "outputs": [],
   "source": []
  },
  {
   "cell_type": "code",
   "execution_count": null,
   "id": "4ade9d89-3ed8-4e0b-bcfa-da99be8975c0",
   "metadata": {},
   "outputs": [],
   "source": []
  },
  {
   "cell_type": "code",
   "execution_count": null,
   "id": "8bbbe395-690a-452b-98c8-9778f4104160",
   "metadata": {},
   "outputs": [],
   "source": []
  },
  {
   "cell_type": "code",
   "execution_count": null,
   "id": "6da3bae5-3605-4bfb-b16d-b2488c392588",
   "metadata": {},
   "outputs": [],
   "source": []
  },
  {
   "cell_type": "code",
   "execution_count": null,
   "id": "352bbee7-c110-4a1b-86ed-5557b47cc055",
   "metadata": {},
   "outputs": [],
   "source": []
  },
  {
   "cell_type": "code",
   "execution_count": null,
   "id": "78bbdfe3-7a1e-4adb-84a6-1acf36bd3e19",
   "metadata": {},
   "outputs": [],
   "source": []
  },
  {
   "cell_type": "code",
   "execution_count": null,
   "id": "4ad5d26c-119b-498f-9a91-cb015df42448",
   "metadata": {},
   "outputs": [],
   "source": []
  },
  {
   "cell_type": "code",
   "execution_count": null,
   "id": "95b98ef6-26e0-40de-a588-adf2a94127c6",
   "metadata": {},
   "outputs": [],
   "source": []
  },
  {
   "cell_type": "code",
   "execution_count": null,
   "id": "f432a89a-dce1-4625-9d9e-2ea61417e0ff",
   "metadata": {},
   "outputs": [],
   "source": []
  },
  {
   "cell_type": "code",
   "execution_count": null,
   "id": "73532b77-97a8-4280-9dcb-48a37f64c933",
   "metadata": {},
   "outputs": [],
   "source": []
  },
  {
   "cell_type": "code",
   "execution_count": null,
   "id": "ff847245-5122-43b9-85ab-86fbf00e8b81",
   "metadata": {},
   "outputs": [],
   "source": []
  },
  {
   "cell_type": "code",
   "execution_count": null,
   "id": "8ca9ebc2-14e6-42e3-b431-18f429493905",
   "metadata": {},
   "outputs": [],
   "source": []
  },
  {
   "cell_type": "code",
   "execution_count": null,
   "id": "d67c1e33-2721-454e-aa97-6366f27a953c",
   "metadata": {},
   "outputs": [],
   "source": []
  },
  {
   "cell_type": "code",
   "execution_count": null,
   "id": "811d6a4f-4d32-4fa3-a346-20d8ee65b7cb",
   "metadata": {},
   "outputs": [],
   "source": []
  },
  {
   "cell_type": "code",
   "execution_count": 48,
   "id": "a5ae4598-5157-49f5-bdb8-47480483661d",
   "metadata": {
    "tags": []
   },
   "outputs": [],
   "source": [
    "outliers_scores_x_test\n",
    "misclassified_outliers_scores = [outliers_scores_x_test[i] for i in misclassified_indices]"
   ]
  },
  {
   "cell_type": "code",
   "execution_count": 49,
   "id": "573be7b5-8840-4672-a4c0-77d542262742",
   "metadata": {
    "tags": []
   },
   "outputs": [
    {
     "data": {
      "image/png": "[encoded data removed]",
      "text/plain": [
       "<Figure size 640x480 with 1 Axes>"
      ]
     },
     "metadata": {},
     "output_type": "display_data"
    }
   ],
   "source": [
    "plt.hist(misclassified_double_trust, bins='auto', color='red', alpha=0.9)\n",
    "plt.title('trust mis')\n",
    "plt.xlabel('Values')\n",
    "plt.ylabel('Frequency')\n",
    "plt.show()"
   ]
  },
  {
   "cell_type": "code",
   "execution_count": 50,
   "id": "632c4355-8278-4ad8-8d34-5687a533180f",
   "metadata": {
    "tags": []
   },
   "outputs": [
    {
     "data": {
      "image/png": "[encoded data removed]",
      "text/plain": [
       "<Figure size 640x480 with 1 Axes>"
      ]
     },
     "metadata": {},
     "output_type": "display_data"
    }
   ],
   "source": [
    "plt.hist(correct_classified__double_trust, bins='auto', color='blue', alpha=0.9)\n",
    "plt.title('trust correct')\n",
    "plt.xlabel('Values')\n",
    "plt.ylabel('Frequency')\n",
    "plt.show()"
   ]
  },
  {
   "cell_type": "code",
   "execution_count": 50,
   "id": "6da8eded-1191-4aed-a752-b9cfb124acb5",
   "metadata": {
    "tags": []
   },
   "outputs": [],
   "source": [
    "misclassified_trust = [trust_scores[i] for i in misclassified_indices]\n",
    "correct_classified_trust =  [trust_scores[i] for i in correct_classified_indices]"
   ]
  },
  {
   "cell_type": "code",
   "execution_count": 51,
   "id": "ce0edb7b-12b2-4085-9926-a99791bf8703",
   "metadata": {
    "tags": []
   },
   "outputs": [
    {
     "data": {
      "text/plain": [
       "1.191766505748581"
      ]
     },
     "execution_count": 51,
     "metadata": {},
     "output_type": "execute_result"
    }
   ],
   "source": [
    "np.mean(misclassified_trust)"
   ]
  },
  {
   "cell_type": "code",
   "execution_count": 52,
   "id": "3f981e0b-bb4b-4c6a-9248-4a4f5e6d6c6d",
   "metadata": {
    "tags": []
   },
   "outputs": [
    {
     "data": {
      "text/plain": [
       "2.1670401304449887"
      ]
     },
     "execution_count": 52,
     "metadata": {},
     "output_type": "execute_result"
    }
   ],
   "source": [
    "np.mean(correct_classified_trust)"
   ]
  },
  {
   "cell_type": "code",
   "execution_count": 53,
   "id": "e896ad9a-59cf-4ecc-9b88-3237e3097dcb",
   "metadata": {
    "tags": []
   },
   "outputs": [
    {
     "data": {
      "image/png": "[encoded data removed]",
      "text/plain": [
       "<Figure size 640x480 with 1 Axes>"
      ]
     },
     "metadata": {},
     "output_type": "display_data"
    }
   ],
   "source": [
    "plt.hist(misclassified_trust, bins='auto', color='orange', alpha=0.9)\n",
    "plt.title('tr mis')\n",
    "plt.xlabel('Values')\n",
    "plt.ylabel('Frequency')\n",
    "plt.show()"
   ]
  },
  {
   "cell_type": "code",
   "execution_count": 54,
   "id": "8de0fa3d-2994-4978-81ea-17f037837b4e",
   "metadata": {
    "tags": []
   },
   "outputs": [
    {
     "data": {
      "image/png": "[encoded data removed]",
      "text/plain": [
       "<Figure size 640x480 with 1 Axes>"
      ]
     },
     "metadata": {},
     "output_type": "display_data"
    }
   ],
   "source": [
    "plt.hist(correct_classified_trust, bins='auto', color='green', alpha=0.9)\n",
    "plt.title('tr correct')\n",
    "plt.xlabel('Values')\n",
    "plt.ylabel('Frequency')\n",
    "plt.show()"
   ]
  },
  {
   "cell_type": "code",
   "execution_count": 55,
   "id": "63618c1e-3bfc-436a-9b49-e4c2a720df97",
   "metadata": {
    "tags": []
   },
   "outputs": [],
   "source": [
    "misclassified_brier_score = [brier_score[i] for i in misclassified_indices]\n",
    "correct_classified_brier_score =  [brier_score[i] for i in correct_classified_indices]\n",
    "misclassified_kl = [kl_divergences_mean[i] for i in misclassified_indices]\n",
    "correct_classified_kl =  [kl_divergences_mean[i] for i in correct_classified_indices]\n",
    "misclassified_var = [variance_values_sum[i] for i in misclassified_indices]\n",
    "correct_classified_var =  [variance_values_sum[i] for i in correct_classified_indices]\n",
    "misclassified_trust_scores = [trust_scores[i] for i in misclassified_indices]\n",
    "correct_classified_trust_scores =  [trust_scores[i] for i in correct_classified_indices]"
   ]
  },
  {
   "cell_type": "code",
   "execution_count": 56,
   "id": "4f50f57c-8a84-479c-9bef-b142831f9ff9",
   "metadata": {
    "tags": []
   },
   "outputs": [
    {
     "data": {
      "text/html": [
       "<div>\n",
       "<style scoped>\n",
       "    .dataframe tbody tr th:only-of-type {\n",
       "        vertical-align: middle;\n",
       "    }\n",
       "\n",
       "    .dataframe tbody tr th {\n",
       "        vertical-align: top;\n",
       "    }\n",
       "\n",
       "    .dataframe thead th {\n",
       "        text-align: right;\n",
       "    }\n",
       "</style>\n",
       "<table border=\"1\" class=\"dataframe\">\n",
       "  <thead>\n",
       "    <tr style=\"text-align: right;\">\n",
       "      <th></th>\n",
       "      <th>Brier Score</th>\n",
       "      <th>KL Divergence</th>\n",
       "      <th>Variance</th>\n",
       "      <th>Trust Scores</th>\n",
       "    </tr>\n",
       "  </thead>\n",
       "  <tbody>\n",
       "    <tr>\n",
       "      <th>Misclassified</th>\n",
       "      <td>30.382926</td>\n",
       "      <td>0.090601</td>\n",
       "      <td>0.086672</td>\n",
       "      <td>1191.766506</td>\n",
       "    </tr>\n",
       "    <tr>\n",
       "      <th>Correct Classified</th>\n",
       "      <td>25.176447</td>\n",
       "      <td>0.179374</td>\n",
       "      <td>0.161764</td>\n",
       "      <td>2167.040130</td>\n",
       "    </tr>\n",
       "  </tbody>\n",
       "</table>\n",
       "</div>"
      ],
      "text/plain": [
       "                    Brier Score  KL Divergence  Variance  Trust Scores\n",
       "Misclassified         30.382926       0.090601  0.086672   1191.766506\n",
       "Correct Classified    25.176447       0.179374  0.161764   2167.040130"
      ]
     },
     "execution_count": 56,
     "metadata": {},
     "output_type": "execute_result"
    }
   ],
   "source": [
    "# Calculate mean for each vector\n",
    "mean_misclassified_brier = np.mean(misclassified_brier_score)*100\n",
    "mean_correct_classified_brier = np.mean(correct_classified_brier_score)*100\n",
    "mean_misclassified_kl = np.mean(misclassified_kl)*10\n",
    "mean_correct_classified_kl = np.mean(correct_classified_kl)*10\n",
    "mean_misclassified_var = np.mean(misclassified_var)*100\n",
    "mean_correct_classified_var = np.mean(correct_classified_var)*100\n",
    "mean_misclassified_trust_scores = np.mean(misclassified_trust_scores)*1000\n",
    "mean_correct_classified_trust_scores = np.mean(correct_classified_trust_scores)*1000\n",
    "\n",
    "data = {\n",
    "    'Brier Score': [mean_misclassified_brier, mean_correct_classified_brier],\n",
    "    'KL Divergence': [mean_misclassified_kl, mean_correct_classified_kl],\n",
    "    'Variance': [mean_misclassified_var, mean_correct_classified_var],\n",
    "    'Trust Scores': [mean_misclassified_trust_scores, mean_correct_classified_trust_scores],\n",
    "}\n",
    "\n",
    "mean_df = pd.DataFrame(data, index=['Misclassified', 'Correct Classified'])\n",
    "\n",
    "# Display the DataFrame\n",
    "\n",
    "mean_df"
   ]
  },
  {
   "cell_type": "code",
   "execution_count": 57,
   "id": "1258eca5-21f6-4368-bd69-20769f45f25d",
   "metadata": {
    "tags": []
   },
   "outputs": [],
   "source": [
    "import matplotlib.pyplot as plt\n",
    "\n",
    "# Create a dictionary to map array names to indices\n",
    "array_names = {\n",
    "    'misclassified_brier_score': misclassified_brier_score,\n",
    "    'correct_classified_brier_score': correct_classified_brier_score,\n",
    "    'misclassified_kl': misclassified_kl,\n",
    "    'correct_classified_kl': correct_classified_kl,\n",
    "    'misclassified_var': misclassified_var,\n",
    "    'correct_classified_var': correct_classified_var,\n",
    "    'misclassified_trust_scores': misclassified_trust_scores,\n",
    "    'correct_classified_trust_scores': correct_classified_trust_scores\n",
    "}\n",
    "\n",
    "colors = ['red', 'blue'] * 4  # Red for misclassified, blue for correct\n",
    "i=0\n",
    "for name, array in array_names.items():\n",
    "    plt.hist(array, bins='auto', color=colors[i], alpha=0.9)\n",
    "    i+=1\n",
    "    plt.title(f'BANK {name}')\n",
    "    plt.xlabel('Values')\n",
    "    plt.ylabel('Frequency')\n",
    "    plt.savefig(f'bank_{name}.png')\n",
    "    plt.close()\n"
   ]
  },
  {
   "cell_type": "code",
   "execution_count": 58,
   "id": "0d243bd8-faaa-4fa5-bd47-9e62bf707a99",
   "metadata": {},
   "outputs": [
    {
     "name": "stdout",
     "output_type": "stream",
     "text": [
      "This will only be executed when my_module is run directly.\n"
     ]
    }
   ],
   "source": [
    "\n",
    "\n",
    "if __name__ == \"__main__\":\n",
    "    # This block will only run if the module is executed directly\n",
    "    print(\"This will only be executed when my_module is run directly.\")"
   ]
  },
  {
   "cell_type": "code",
   "execution_count": null,
   "id": "b3c8d228-fba2-4405-a210-85a03915f483",
   "metadata": {},
   "outputs": [],
   "source": []
  }
 ],
 "metadata": {
  "kernelspec": {
   "display_name": "Python 3 (ipykernel)",
   "language": "python",
   "name": "python3"
  },
  "language_info": {
   "codemirror_mode": {
    "name": "ipython",
    "version": 3
   },
   "file_extension": ".py",
   "mimetype": "text/x-python",
   "name": "python",
   "nbconvert_exporter": "python",
   "pygments_lexer": "ipython3",
   "version": "3.7.16"
  }
 },
 "nbformat": 4,
 "nbformat_minor": 5
}
